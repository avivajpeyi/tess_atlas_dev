{
 "cells": [
  {
   "cell_type": "markdown",
   "id": "66d8728b",
   "metadata": {
    "tags": [
     "def"
    ]
   },
   "source": [
    "# TESS Atlas fit for TOI 3481\n",
    "\n",
    "**Version: '0.2.1.dev30+g4180b55.d20210911'**\n",
    "\n",
    "**Note: This notebook was automatically generated as part of the TESS Atlas project. More information can be found on GitHub:** [github.com/dfm/tess-atlas](https://github.com/dfm/tess-atlas)\n",
    "\n",
    "In this notebook, we do a quicklook fit for the parameters of the TESS Objects of Interest (TOI) in the system number 3481.\n",
    "To do this fit, we use the [exoplanet](https://exoplanet.dfm.io) library and you can find more information about that project at [exoplanet.dfm.io](https://exoplanet.dfm.io).\n",
    "\n",
    "From here, you can scroll down and take a look at the fit results, or you can:\n",
    "\n",
    "- [open the notebook in Google Colab to run the fit yourself](https://colab.research.google.com/github/dfm/tess-atlas/blob/gh-pages/notebooks/'0.2.1.dev30+g4180b55.d20210911'/toi-3481.ipynb),\n",
    "- [view the notebook on GitHub](https://github.com/dfm/tess-atlas/blob/gh-pages/notebooks/'0.2.1.dev30+g4180b55.d20210911'/toi-3481.ipynb), or\n",
    "- [download the notebook](https://github.com/dfm/tess-atlas/raw/gh-pages/notebooks/'0.2.1.dev30+g4180b55.d20210911'/toi-3481.ipynb).\n",
    "\n",
    "\n",
    "\n",
    "## Caveats\n",
    "\n",
    "There are many caveats associated with this relatively simple \"quicklook\" type of analysis that should be kept in mind.\n",
    "Here are some of the main things that come to mind:\n",
    "\n",
    "1. The orbits that we fit are constrained to be *circular*. One major effect of this approximation is that the fit will significantly overestimate the confidence of the impact parameter constraint, so the results for impact parameter shouldn't be taken too seriously.\n",
    "\n",
    "2. Transit timing variations, correlated noise, and (probably) your favorite systematics are ignored. Sorry!\n",
    "\n",
    "3. This notebook was generated automatically without human intervention. Use at your own risk!\n",
    "\n",
    "## Table of Contents\n",
    "\n",
    "1. [Getting started](#Getting-started)\n",
    "2. [Downloading Data](#Downloading-Data)\n",
    "3. [Fitting stellar parameters](#Fitting-stellar-parameters)\n",
    "4. [Results](#Results)\n",
    "5. [Citations](#Citations)\n",
    "6. [Posterior constraints](#Posterior-constraints)\n",
    "7. [Attribution](#Attribution)\n",
    "\n",
    "## Getting started\n",
    "\n",
    "To get going, we'll need to make out plots show up inline:"
   ]
  },
  {
   "cell_type": "code",
   "execution_count": 1,
   "id": "e64647dd",
   "metadata": {
    "execution": {
     "iopub.execute_input": "2021-09-11T20:15:40.296125Z",
     "iopub.status.busy": "2021-09-11T20:15:40.293111Z",
     "iopub.status.idle": "2021-09-11T20:15:41.254976Z",
     "shell.execute_reply": "2021-09-11T20:15:41.260718Z"
    },
    "pycharm": {
     "name": "#%%\n"
    },
    "tags": [
     "exe"
    ]
   },
   "outputs": [],
   "source": [
    "%matplotlib inline"
   ]
  },
  {
   "cell_type": "markdown",
   "id": "f5d37f4a",
   "metadata": {
    "tags": [
     "def"
    ]
   },
   "source": [
    "Then we'll set up the plotting styles and do all of the imports:"
   ]
  },
  {
   "cell_type": "code",
   "execution_count": 2,
   "id": "659a9330",
   "metadata": {
    "execution": {
     "iopub.execute_input": "2021-09-11T20:15:41.279742Z",
     "iopub.status.busy": "2021-09-11T20:15:41.275881Z",
     "iopub.status.idle": "2021-09-11T20:15:54.647592Z",
     "shell.execute_reply": "2021-09-11T20:15:54.650376Z"
    },
    "pycharm": {
     "name": "#%%\n"
    },
    "tags": [
     "def"
    ]
   },
   "outputs": [],
   "source": [
    "\n",
    "import logging\n",
    "import os\n",
    "\n",
    "import exoplanet as xo\n",
    "import numpy as np\n",
    "import pandas as pd\n",
    "import pymc3 as pm\n",
    "import pymc3_ext as pmx\n",
    "import theano.tensor as tt\n",
    "from celerite2.theano import GaussianProcess, terms\n",
    "from pymc3.sampling import MultiTrace\n",
    "\n",
    "from tess_atlas.data import TICEntry\n",
    "from tess_atlas.analysis.eccenticity_reweighting import (\n",
    "    calculate_eccentricity_weights,\n",
    ")\n",
    "\n",
    "from tess_atlas.utils import notebook_initalisations\n",
    "from tess_atlas.utils import NOTEBOOK_LOGGER_NAME\n",
    "\n",
    "notebook_initalisations()\n",
    "logger = logging.getLogger(NOTEBOOK_LOGGER_NAME)"
   ]
  },
  {
   "cell_type": "code",
   "execution_count": 3,
   "id": "ffccc70b",
   "metadata": {
    "execution": {
     "iopub.execute_input": "2021-09-11T20:15:54.661709Z",
     "iopub.status.busy": "2021-09-11T20:15:54.658983Z",
     "iopub.status.idle": "2021-09-11T20:15:54.831103Z",
     "shell.execute_reply": "2021-09-11T20:15:54.833242Z"
    },
    "pycharm": {
     "name": "#%%\n"
    },
    "tags": [
     "exe"
    ]
   },
   "outputs": [],
   "source": [
    "os.environ[\"INTERACTIVE_PLOTS\"] = \"FALSE\"  # \"TRUE\" for interactive plots\n",
    "from tess_atlas.plotting import (\n",
    "    plot_eccentricity_posteriors,\n",
    "    plot_folded_lightcurve,\n",
    "    plot_phase,\n",
    "    plot_lightcurve,\n",
    "    plot_posteriors,\n",
    ")"
   ]
  },
  {
   "cell_type": "code",
   "execution_count": 4,
   "id": "aa5d45c4",
   "metadata": {
    "execution": {
     "iopub.execute_input": "2021-09-11T20:15:54.843482Z",
     "iopub.status.busy": "2021-09-11T20:15:54.840947Z",
     "iopub.status.idle": "2021-09-11T20:15:54.846815Z",
     "shell.execute_reply": "2021-09-11T20:15:54.849347Z"
    },
    "pycharm": {
     "name": "#%%\n"
    },
    "tags": [
     "exe"
    ]
   },
   "outputs": [],
   "source": [
    "TOI_NUMBER = 3481"
   ]
  },
  {
   "cell_type": "markdown",
   "id": "a6410069",
   "metadata": {
    "lines_to_next_cell": 0,
    "tags": [
     "def"
    ]
   },
   "source": [
    "## Downloading Data\n",
    "\n",
    "Next, we grab some inital guesses for the TOI's parameters from [ExoFOP](https://exofop.ipac.caltech.edu/tess/) and download the TOI's lightcurve with [Lightkurve].\n",
    "\n",
    "We wrap the information in three objects, a `TIC Entry`, a `Planet Candidate` and finally a `Lightcurve Data` object.\n",
    "\n",
    "- The `TIC Entry` object holds one or more `Planet Candidate`s (each candidate associated with one TOI id number) and a `Lightcurve Data` for associated with the candidates. Note that the `Lightcurve Data` object is initially the same fopr each candidate but may be masked according to the candidate transit's period.\n",
    "\n",
    "- The `Planet Candidate` holds informaiton on the TOI data collected by [SPOC] (eg transit period, etc)\n",
    "\n",
    "- The `Lightcurve Data` holds the lightcurve time and flux data for the planet candidates.\n",
    "\n",
    "[ExoFOP]: https://exofop.ipac.caltech.edu/tess/\n",
    "[Lightkurve]: https://docs.lightkurve.org/index.html\n",
    "[SPOC]: https://heasarc.gsfc.nasa.gov/docs/tess/pipeline.html\n",
    "\n",
    "Downloading the data (this may take a few minutes):"
   ]
  },
  {
   "cell_type": "code",
   "execution_count": 1,
   "id": "9c125d42",
   "metadata": {
    "execution": {
     "iopub.execute_input": "2021-09-11T20:15:54.860961Z",
     "iopub.status.busy": "2021-09-11T20:15:54.858097Z",
     "iopub.status.idle": "2021-09-11T20:16:00.254352Z",
     "shell.execute_reply": "2021-09-11T20:16:00.257142Z"
    },
    "pycharm": {
     "name": "#%%\n"
    },
    "tags": [
     "exe"
    ]
   },
   "outputs": [
    {
     "name": "stdout",
     "output_type": "stream",
     "text": [
      "2021-09-12 06:15:54,979 - TESS-ATLAS - INFO - Searching for lightkurve data with target='TIC 396316939', mission='TESS'\n"
     ]
    },
    {
     "name": "stderr",
     "output_type": "stream",
     "text": [
      "No data found for target \"TIC 396316939\".\n"
     ]
    },
    {
     "ename": "KeyError",
     "evalue": "'t_exptime'",
     "output_type": "error",
     "traceback": [
      "\u001b[0;31m---------------------------------------------------------------------------\u001b[0m",
      "\u001b[0;31mKeyError\u001b[0m                                  Traceback (most recent call last)",
      "\u001b[0;32m<ipython-input-1-ceeecf8aa2aa>\u001b[0m in \u001b[0;36m<module>\u001b[0;34m\u001b[0m\n\u001b[0;32m----> 1\u001b[0;31m \u001b[0mtic_entry\u001b[0m \u001b[0;34m=\u001b[0m \u001b[0mTICEntry\u001b[0m\u001b[0;34m.\u001b[0m\u001b[0mgenerate_tic_from_toi_number\u001b[0m\u001b[0;34m(\u001b[0m\u001b[0mtoi\u001b[0m\u001b[0;34m=\u001b[0m\u001b[0mTOI_NUMBER\u001b[0m\u001b[0;34m)\u001b[0m\u001b[0;34m\u001b[0m\u001b[0;34m\u001b[0m\u001b[0m\n\u001b[0m",
      "\u001b[0;32m~/Documents/projects/tess/tess-atlas/src/tess_atlas/data/tic_entry.py\u001b[0m in \u001b[0;36mgenerate_tic_from_toi_number\u001b[0;34m(cls, toi, tic_data)\u001b[0m\n\u001b[1;32m    118\u001b[0m \u001b[0;34m\u001b[0m\u001b[0m\n\u001b[1;32m    119\u001b[0m         \u001b[0;31m# Load lighcurve for TIC\u001b[0m\u001b[0;34m\u001b[0m\u001b[0;34m\u001b[0m\u001b[0;34m\u001b[0m\u001b[0m\n\u001b[0;32m--> 120\u001b[0;31m         \u001b[0mlightcurve\u001b[0m \u001b[0;34m=\u001b[0m \u001b[0mLightCurveData\u001b[0m\u001b[0;34m.\u001b[0m\u001b[0mfrom_mast\u001b[0m\u001b[0;34m(\u001b[0m\u001b[0mtic\u001b[0m\u001b[0;34m=\u001b[0m\u001b[0mtic_number\u001b[0m\u001b[0;34m)\u001b[0m\u001b[0;34m\u001b[0m\u001b[0;34m\u001b[0m\u001b[0m\n\u001b[0m\u001b[1;32m    121\u001b[0m \u001b[0;34m\u001b[0m\u001b[0m\n\u001b[1;32m    122\u001b[0m         \u001b[0mcandidates\u001b[0m \u001b[0;34m=\u001b[0m \u001b[0;34m[\u001b[0m\u001b[0;34m]\u001b[0m\u001b[0;34m\u001b[0m\u001b[0;34m\u001b[0m\u001b[0m\n",
      "\u001b[0;32m~/Documents/projects/tess/tess-atlas/src/tess_atlas/data/lightcurve_data.py\u001b[0m in \u001b[0;36mfrom_mast\u001b[0;34m(cls, tic)\u001b[0m\n\u001b[1;32m     37\u001b[0m \u001b[0;34m\u001b[0m\u001b[0m\n\u001b[1;32m     38\u001b[0m         \u001b[0;31m# Restrict to short cadence no \"fast\" cadence\u001b[0m\u001b[0;34m\u001b[0m\u001b[0;34m\u001b[0m\u001b[0;34m\u001b[0m\u001b[0m\n\u001b[0;32m---> 39\u001b[0;31m         \u001b[0msearch\u001b[0m \u001b[0;34m=\u001b[0m \u001b[0msearch\u001b[0m\u001b[0;34m[\u001b[0m\u001b[0mnp\u001b[0m\u001b[0;34m.\u001b[0m\u001b[0mwhere\u001b[0m\u001b[0;34m(\u001b[0m\u001b[0msearch\u001b[0m\u001b[0;34m.\u001b[0m\u001b[0mtable\u001b[0m\u001b[0;34m[\u001b[0m\u001b[0;34m\"t_exptime\"\u001b[0m\u001b[0;34m]\u001b[0m \u001b[0;34m==\u001b[0m \u001b[0;36m120\u001b[0m\u001b[0;34m)\u001b[0m\u001b[0;34m]\u001b[0m\u001b[0;34m\u001b[0m\u001b[0;34m\u001b[0m\u001b[0m\n\u001b[0m\u001b[1;32m     40\u001b[0m \u001b[0;34m\u001b[0m\u001b[0m\n\u001b[1;32m     41\u001b[0m         logger.info(\n",
      "\u001b[0;32m~/anaconda3/envs/phase-marginalisation-test/lib/python3.7/site-packages/astropy/table/table.py\u001b[0m in \u001b[0;36m__getitem__\u001b[0;34m(self, item)\u001b[0m\n\u001b[1;32m   1865\u001b[0m     \u001b[0;32mdef\u001b[0m \u001b[0m__getitem__\u001b[0m\u001b[0;34m(\u001b[0m\u001b[0mself\u001b[0m\u001b[0;34m,\u001b[0m \u001b[0mitem\u001b[0m\u001b[0;34m)\u001b[0m\u001b[0;34m:\u001b[0m\u001b[0;34m\u001b[0m\u001b[0;34m\u001b[0m\u001b[0m\n\u001b[1;32m   1866\u001b[0m         \u001b[0;32mif\u001b[0m \u001b[0misinstance\u001b[0m\u001b[0;34m(\u001b[0m\u001b[0mitem\u001b[0m\u001b[0;34m,\u001b[0m \u001b[0mstr\u001b[0m\u001b[0;34m)\u001b[0m\u001b[0;34m:\u001b[0m\u001b[0;34m\u001b[0m\u001b[0;34m\u001b[0m\u001b[0m\n\u001b[0;32m-> 1867\u001b[0;31m             \u001b[0;32mreturn\u001b[0m \u001b[0mself\u001b[0m\u001b[0;34m.\u001b[0m\u001b[0mcolumns\u001b[0m\u001b[0;34m[\u001b[0m\u001b[0mitem\u001b[0m\u001b[0;34m]\u001b[0m\u001b[0;34m\u001b[0m\u001b[0;34m\u001b[0m\u001b[0m\n\u001b[0m\u001b[1;32m   1868\u001b[0m         \u001b[0;32melif\u001b[0m \u001b[0misinstance\u001b[0m\u001b[0;34m(\u001b[0m\u001b[0mitem\u001b[0m\u001b[0;34m,\u001b[0m \u001b[0;34m(\u001b[0m\u001b[0mint\u001b[0m\u001b[0;34m,\u001b[0m \u001b[0mnp\u001b[0m\u001b[0;34m.\u001b[0m\u001b[0minteger\u001b[0m\u001b[0;34m)\u001b[0m\u001b[0;34m)\u001b[0m\u001b[0;34m:\u001b[0m\u001b[0;34m\u001b[0m\u001b[0;34m\u001b[0m\u001b[0m\n\u001b[1;32m   1869\u001b[0m             \u001b[0;32mreturn\u001b[0m \u001b[0mself\u001b[0m\u001b[0;34m.\u001b[0m\u001b[0mRow\u001b[0m\u001b[0;34m(\u001b[0m\u001b[0mself\u001b[0m\u001b[0;34m,\u001b[0m \u001b[0mitem\u001b[0m\u001b[0;34m)\u001b[0m\u001b[0;34m\u001b[0m\u001b[0;34m\u001b[0m\u001b[0m\n",
      "\u001b[0;32m~/anaconda3/envs/phase-marginalisation-test/lib/python3.7/site-packages/astropy/table/table.py\u001b[0m in \u001b[0;36m__getitem__\u001b[0;34m(self, item)\u001b[0m\n\u001b[1;32m    244\u001b[0m         \"\"\"\n\u001b[1;32m    245\u001b[0m         \u001b[0;32mif\u001b[0m \u001b[0misinstance\u001b[0m\u001b[0;34m(\u001b[0m\u001b[0mitem\u001b[0m\u001b[0;34m,\u001b[0m \u001b[0mstr\u001b[0m\u001b[0;34m)\u001b[0m\u001b[0;34m:\u001b[0m\u001b[0;34m\u001b[0m\u001b[0;34m\u001b[0m\u001b[0m\n\u001b[0;32m--> 246\u001b[0;31m             \u001b[0;32mreturn\u001b[0m \u001b[0mOrderedDict\u001b[0m\u001b[0;34m.\u001b[0m\u001b[0m__getitem__\u001b[0m\u001b[0;34m(\u001b[0m\u001b[0mself\u001b[0m\u001b[0;34m,\u001b[0m \u001b[0mitem\u001b[0m\u001b[0;34m)\u001b[0m\u001b[0;34m\u001b[0m\u001b[0;34m\u001b[0m\u001b[0m\n\u001b[0m\u001b[1;32m    247\u001b[0m         \u001b[0;32melif\u001b[0m \u001b[0misinstance\u001b[0m\u001b[0;34m(\u001b[0m\u001b[0mitem\u001b[0m\u001b[0;34m,\u001b[0m \u001b[0;34m(\u001b[0m\u001b[0mint\u001b[0m\u001b[0;34m,\u001b[0m \u001b[0mnp\u001b[0m\u001b[0;34m.\u001b[0m\u001b[0minteger\u001b[0m\u001b[0;34m)\u001b[0m\u001b[0;34m)\u001b[0m\u001b[0;34m:\u001b[0m\u001b[0;34m\u001b[0m\u001b[0;34m\u001b[0m\u001b[0m\n\u001b[1;32m    248\u001b[0m             \u001b[0;32mreturn\u001b[0m \u001b[0mlist\u001b[0m\u001b[0;34m(\u001b[0m\u001b[0mself\u001b[0m\u001b[0;34m.\u001b[0m\u001b[0mvalues\u001b[0m\u001b[0;34m(\u001b[0m\u001b[0;34m)\u001b[0m\u001b[0;34m)\u001b[0m\u001b[0;34m[\u001b[0m\u001b[0mitem\u001b[0m\u001b[0;34m]\u001b[0m\u001b[0;34m\u001b[0m\u001b[0;34m\u001b[0m\u001b[0m\n",
      "\u001b[0;31mKeyError\u001b[0m: 't_exptime'"
     ]
    }
   ],
   "source": [
    "tic_entry = TICEntry.generate_tic_from_toi_number(toi=TOI_NUMBER)\n"
   ]
  },
  {
   "cell_type": "markdown",
   "id": "c043f643",
   "metadata": {},
   "source": [
    "The initial guesses for the parameters (determined by SPOC):"
   ]
  },
  {
   "cell_type": "code",
   "execution_count": null,
   "id": "d352de7d",
   "metadata": {
    "pycharm": {
     "name": "#%%\n"
    },
    "tags": [
     "exe"
    ]
   },
   "outputs": [],
   "source": [
    "tic_entry.display()\n"
   ]
  },
  {
   "cell_type": "markdown",
   "id": "48627e03",
   "metadata": {
    "lines_to_next_cell": 2
   },
   "source": [
    "Plot of the lightcurve:"
   ]
  },
  {
   "cell_type": "code",
   "execution_count": null,
   "id": "ce57765e",
   "metadata": {
    "lines_to_next_cell": 0,
    "pycharm": {
     "name": "#%%\n"
    },
    "tags": [
     "exe"
    ]
   },
   "outputs": [],
   "source": [
    "plot_lightcurve(tic_entry)"
   ]
  },
  {
   "cell_type": "markdown",
   "id": "813ea890",
   "metadata": {},
   "source": [
    "## Fitting stellar parameters\n",
    "Now that we have the data, we can define a Bayesian model to fit it.\n",
    "\n",
    "### The probabilistic model\n",
    "\n",
    "We use the probabilistic model as described in [Foreman-Mackey et al 2017] to determine the best parameters to fit the transits present in the lightcurve data.\n",
    "\n",
    "More explicitly, the stellar light curve $l(t; \\vec{\\theta})$ is modelled with a Gaussian Process (GP).\n",
    "A GP consists of a mean function $\\mu(t;\\vec{\\theta})$ and a kernel function $k_\\alpha(t,t';\\vec{\\theta})$, where $\\vec{\\theta}$ is the vector of parameters descibing the lightcurve and $t$ is the time during which the lightcurve is under observation\n",
    "\n",
    "The 8 parameters describing the lightcurve are\n",
    "$$\\vec{\\theta} = \\{d_i, t0_i, tmax_i, b_i, r_i, f0, u1, u2\\},$$\n",
    "where\n",
    "* $d_i$ transit durations for each planet,\n",
    "* $t0_i$ transit phase/epoch for each planet,\n",
    "* $tmax_i$ time of the last transit observed by TESS for each planet,\n",
    "* $b_i$ impact parameter for each planet,\n",
    "* $r_i$ planet radius in stellar radius for each planet,\n",
    "* $f0$ baseline relative flux of the light curve from star,\n",
    "* $u1$ $u2$ two parameters describing the limb-darkening profile of star.\n",
    "\n",
    "Note: if the observed data only records a single transit,\n",
    "we swap $tmax_i$ with $p_i$ (orbital periods for each planet).\n",
    "\n",
    "With this we can write\n",
    "$$l(t;\\vec{\\theta}) \\sim \\mathcal{GP} (\\mu(t;\\vec{\\theta}), k_\\alpha(t,t';\\vec{\\theta}))\\ .$$\n",
    "\n",
    "Here the mean and kernel functions are:\n",
    "* $\\mu(t;\\vec{\\theta})$: a limb-darkened transit light curve ([Kipping 2013])\n",
    "* $k_\\alpha(t,t';\\vec{\\theta}))$: a stochastically-driven, damped harmonic oscillator ([SHOTterm])\n",
    "\n",
    "\n",
    "Now that we have defined our transit model, we can implement it in python:\n",
    "\n",
    "[Foreman-Mackey et al 2017]: https://arxiv.org/pdf/1703.09710.pdf\n",
    "[Kipping 2013]: https://arxiv.org/abs/1308.0009\n",
    "[SHOTterm]: https://celerite2.readthedocs.io/en/latest/api/python/?highlight=SHOTerm#celerite2.terms.SHOTerm"
   ]
  },
  {
   "cell_type": "code",
   "execution_count": null,
   "id": "02bbc37b",
   "metadata": {
    "pycharm": {
     "name": "#%%\n"
    },
    "tags": [
     "def"
    ]
   },
   "outputs": [],
   "source": [
    "def build_planet_transit_model(tic_entry):\n",
    "\n",
    "    # TODO: update model https://github.com/exoplanet-dev/tess.world/blob/main/src/tess_world/templates/template.py#L305\n",
    "    t = tic_entry.lightcurve.time\n",
    "    y = tic_entry.lightcurve.flux\n",
    "    yerr = tic_entry.lightcurve.flux_err\n",
    "\n",
    "    n = tic_entry.planet_count\n",
    "    t0s = np.array([planet.t0 for planet in tic_entry.candidates])\n",
    "    depths = np.array([planet.depth for planet in tic_entry.candidates])\n",
    "    periods = np.array([planet.period for planet in tic_entry.candidates])\n",
    "    tmaxs = np.array([planet.tmax for planet in tic_entry.candidates])\n",
    "    durations = np.array([planet.duration for planet in tic_entry.candidates])\n",
    "    max_duration, min_duration = durations.max(), durations.min()\n",
    "\n",
    "    with pm.Model() as my_planet_transit_model:\n",
    "        ## define planet 𝜃⃗\n",
    "        d_priors = pm.Lognormal(\"d\", mu=np.log(0.1), sigma=10.0, shape=n)\n",
    "        r_priors = pm.Lognormal(\n",
    "            \"r\", mu=0.5 * np.log(depths * 1e-3), sd=1.0, shape=n\n",
    "        )\n",
    "        b_priors = xo.distributions.ImpactParameter(\"b\", ror=r_priors, shape=n)\n",
    "        planet_priors = [r_priors, d_priors, b_priors]\n",
    "\n",
    "        ## define orbit-timing 𝜃⃗\n",
    "        t0_norm = pm.Bound(\n",
    "            pm.Normal, lower=t0s - max_duration, upper=t0s + max_duration\n",
    "        )\n",
    "        t0_priors = t0_norm(\"t0\", mu=t0s, sd=1.0, shape=n)\n",
    "\n",
    "        p_params, p_priors_list, tmax_priors_list = [], [], []\n",
    "        for n, planet in enumerate(tic_entry.candidates):\n",
    "            if planet.has_data_only_for_single_transit:\n",
    "                p_prior = pm.Pareto(\n",
    "                    f\"p_{planet.index}\",\n",
    "                    m=planet.period_min,\n",
    "                    alpha=2.0 / 3.0,\n",
    "                    testval=planet.period,\n",
    "                )\n",
    "                p_param = p_prior\n",
    "                tmax_prior = planet.t0\n",
    "            else:\n",
    "                tmax_norm = pm.Bound(\n",
    "                    pm.Normal,\n",
    "                    lower=planet.tmax - max_duration,\n",
    "                    upper=planet.tmax + max_duration,\n",
    "                )\n",
    "                tmax_prior = tmax_norm(\n",
    "                    f\"tmax_{planet.index}\",\n",
    "                    mu=planet.tmax,\n",
    "                    sigma=0.5 * planet.duration,\n",
    "                    testval=planet.tmax,\n",
    "                )\n",
    "                p_prior = (tmax_prior - t0_priors[n]) / planet.num_periods\n",
    "                p_param = tmax_prior\n",
    "\n",
    "            p_params.append(p_param)  # the param needed to calculate p\n",
    "            p_priors_list.append(p_prior)\n",
    "            tmax_priors_list.append(tmax_prior)\n",
    "\n",
    "        p_priors = pm.Deterministic(\"p\", tt.stack(p_priors_list))\n",
    "        tmax_priors = pm.Deterministic(\"tmax\", tt.stack(tmax_priors_list))\n",
    "\n",
    "        ## define stellar 𝜃⃗\n",
    "        f0_prior = pm.Normal(\"f0\", mu=0.0, sd=10.0)\n",
    "        u_prior = xo.distributions.QuadLimbDark(\"u\")\n",
    "        stellar_priors = [f0_prior, u_prior]\n",
    "\n",
    "        ## define 𝑘(𝑡,𝑡′;𝜃⃗ )\n",
    "        jitter_prior = pm.InverseGamma(\n",
    "            \"jitter\", **pmx.estimate_inverse_gamma_parameters(1.0, 5.0)\n",
    "        )\n",
    "        sigma_prior = pm.InverseGamma(\n",
    "            \"sigma\", **pmx.estimate_inverse_gamma_parameters(1.0, 5.0)\n",
    "        )\n",
    "        rho_prior = pm.InverseGamma(\n",
    "            \"rho\", **pmx.estimate_inverse_gamma_parameters(0.5, 10.0)\n",
    "        )\n",
    "        kernel = terms.SHOTerm(sigma=sigma_prior, rho=rho_prior, Q=0.3)\n",
    "        noise_priors = [jitter_prior, sigma_prior, rho_prior]\n",
    "\n",
    "        ## define 𝜇(𝑡;𝜃) (the lightcurve model)\n",
    "        orbit = xo.orbits.KeplerianOrbit(\n",
    "            period=p_priors,\n",
    "            t0=t0_priors,\n",
    "            b=b_priors,\n",
    "            duration=d_priors,\n",
    "            ror=r_priors,\n",
    "        )\n",
    "        star = xo.LimbDarkLightCurve(u_prior)\n",
    "        lightcurve_models = star.get_light_curve(orbit=orbit, r=r_priors, t=t)\n",
    "        lightcurve = 1e3 * pm.math.sum(lightcurve_models, axis=-1) + f0_prior\n",
    "        lightcurve_models = pm.Deterministic(\"lightcurves\", lightcurve_models)\n",
    "        rho_circ = pm.Deterministic(\"rho_circ\", orbit.rho_star)\n",
    "\n",
    "        # Finally the GP observation model\n",
    "        residual = y - lightcurve\n",
    "        gp = GaussianProcess(\n",
    "            kernel, t=t, diag=yerr ** 2 + jitter_prior ** 2, mean=lightcurve\n",
    "        )\n",
    "        gp.marginal(\"obs\", observed=y)\n",
    "\n",
    "        # cache params\n",
    "        my_params = dict(\n",
    "            planet_params=planet_priors,\n",
    "            noise_params=noise_priors,\n",
    "            stellar_params=stellar_priors,\n",
    "            period_params=p_params,\n",
    "        )\n",
    "    return my_planet_transit_model, my_params, gp\n",
    "\n",
    "\n",
    "def test_model(model):\n",
    "    \"\"\"Test a point in the model and assure no nans\"\"\"\n",
    "    with model:\n",
    "        test_prob = model.check_test_point()\n",
    "        test_prob.name = \"log P(test-point)\"\n",
    "        assert not test_prob.isnull().values.any(), test_prob\n",
    "        test_pt = pd.Series(\n",
    "            {\n",
    "                k: str(round(np.array(v).flatten()[0], 2))\n",
    "                for k, v in model.test_point.items()\n",
    "            },\n",
    "            name=\"Test Point\",\n",
    "        )\n",
    "        return pd.concat([test_pt, test_prob], axis=1)"
   ]
  },
  {
   "cell_type": "code",
   "execution_count": null,
   "id": "c78b64ac",
   "metadata": {
    "pycharm": {
     "name": "#%%\n"
    },
    "tags": [
     "exe"
    ]
   },
   "outputs": [],
   "source": [
    "planet_transit_model, params, gp = build_planet_transit_model(tic_entry)\n",
    "test_model(planet_transit_model)"
   ]
  },
  {
   "cell_type": "markdown",
   "id": "dc3df3f9",
   "metadata": {},
   "source": [
    "The test point acts as an example of a point in the parameter space.\n",
    "We can now optimize the model sampling parameters before initialising the sampler."
   ]
  },
  {
   "cell_type": "code",
   "execution_count": null,
   "id": "5b11f0da",
   "metadata": {
    "tags": [
     "def"
    ]
   },
   "outputs": [],
   "source": [
    "def get_optimized_init_params(\n",
    "    model, planet_params, noise_params, stellar_params, period_params\n",
    "):\n",
    "    \"\"\"Get params with maximimal log prob for sampling starting point\"\"\"\n",
    "    logger.info(\"Optimizing sampling starting point\")\n",
    "    with model:\n",
    "        theta = model.test_point\n",
    "        kwargs = dict(start=theta, verbose=False, progress=False)\n",
    "        theta = pmx.optimize(**kwargs, vars=[noise_params[0]])\n",
    "        theta = pmx.optimize(**kwargs, vars=planet_params)\n",
    "        theta = pmx.optimize(**kwargs, vars=noise_params)\n",
    "        theta = pmx.optimize(**kwargs, vars=stellar_params)\n",
    "        theta = pmx.optimize(**kwargs, vars=period_params)\n",
    "    logger.info(\"Optimization complete!\")\n",
    "    return theta"
   ]
  },
  {
   "cell_type": "code",
   "execution_count": null,
   "id": "602fdd9c",
   "metadata": {
    "tags": [
     "exe"
    ]
   },
   "outputs": [],
   "source": [
    "init_params = get_optimized_init_params(planet_transit_model, **params)"
   ]
  },
  {
   "cell_type": "markdown",
   "id": "cb150ccc",
   "metadata": {},
   "source": [
    "Now we can plot our initial model:"
   ]
  },
  {
   "cell_type": "code",
   "execution_count": null,
   "id": "741ba636",
   "metadata": {
    "pycharm": {
     "name": "#%%\n"
    },
    "tags": [
     "exe"
    ]
   },
   "outputs": [],
   "source": [
    "model_lightcurves = [\n",
    "    init_params[\"lightcurves\"][:, i] * 1e3\n",
    "    for i in range(tic_entry.planet_count)\n",
    "]\n",
    "plot_lightcurve(tic_entry, model_lightcurves)"
   ]
  },
  {
   "cell_type": "code",
   "execution_count": null,
   "id": "3bf2ba43",
   "metadata": {
    "tags": [
     "exe"
    ]
   },
   "outputs": [],
   "source": [
    "plot_folded_lightcurve(tic_entry, model_lightcurves)\n"
   ]
  },
  {
   "cell_type": "markdown",
   "id": "5467089d",
   "metadata": {},
   "source": [
    "\n",
    "### Sampling\n",
    "With the model and priors defined, we can begin sampling"
   ]
  },
  {
   "cell_type": "code",
   "execution_count": null,
   "id": "22701f18",
   "metadata": {
    "pycharm": {
     "name": "#%%\n"
    },
    "tags": [
     "def"
    ]
   },
   "outputs": [],
   "source": [
    "def start_model_sampling(model) -> MultiTrace:\n",
    "    np.random.seed(TOI_NUMBER)\n",
    "    with model:\n",
    "        samples_trace = pmx.sample(\n",
    "            tune=2000, draws=2000, chains=2, cores=1, start=init_params\n",
    "        )\n",
    "        return samples_trace"
   ]
  },
  {
   "cell_type": "code",
   "execution_count": null,
   "id": "48f3881a",
   "metadata": {
    "pycharm": {
     "name": "#%%\n"
    },
    "tags": [
     "exe"
    ]
   },
   "outputs": [],
   "source": [
    "trace = start_model_sampling(planet_transit_model)\n"
   ]
  },
  {
   "cell_type": "markdown",
   "id": "fb41a3a0",
   "metadata": {},
   "source": [
    "Lets save the posteriors and sampling metadata for future use, and take a look at summary statistics"
   ]
  },
  {
   "cell_type": "code",
   "execution_count": null,
   "id": "0c625c3e",
   "metadata": {
    "lines_to_end_of_cell_marker": 2,
    "lines_to_next_cell": 0,
    "pycharm": {
     "name": "#%%\n"
    },
    "tags": [
     "exe"
    ]
   },
   "outputs": [],
   "source": [
    "tic_entry.inference_trace = trace\n",
    "tic_entry.save_inference_trace()\n",
    "tic_entry.inference_trace"
   ]
  },
  {
   "cell_type": "markdown",
   "id": "00f787d8",
   "metadata": {},
   "source": [
    "## Results\n",
    "Below are plots of the posterior probability distributuions:"
   ]
  },
  {
   "cell_type": "code",
   "execution_count": null,
   "id": "421ba8da",
   "metadata": {
    "lines_to_next_cell": 0,
    "pycharm": {
     "name": "#%%\n"
    },
    "tags": [
     "exe"
    ]
   },
   "outputs": [],
   "source": [
    "plot_posteriors(tic_entry, trace)\n"
   ]
  },
  {
   "cell_type": "markdown",
   "id": "88e3cf33",
   "metadata": {},
   "source": [
    "We can also plot the best-fitting light-curve model"
   ]
  },
  {
   "cell_type": "code",
   "execution_count": null,
   "id": "a8f6b855",
   "metadata": {
    "pycharm": {
     "name": "#%%\n"
    },
    "tags": [
     "exe"
    ]
   },
   "outputs": [],
   "source": [
    "plot_phase(tic_entry, trace)\n"
   ]
  },
  {
   "cell_type": "markdown",
   "id": "01b4907e",
   "metadata": {},
   "source": [
    "### Post-processing: Eccentricity\n",
    "\n",
    "As discussed above, we fit this model assuming a circular orbit which speeds things up for a few reasons:\n",
    "1) `e=0` allows simpler orbital dynamics which are more computationally efficient (no need to solve Kepler's equation numerically)\n",
    "\n",
    "2) There are degeneracies between eccentricity, arrgument of periasteron, impact parameter, and planet radius. Hence by setting `e=0` and using the duration in calculating the planet's orbit, the sampler can perform better.\n",
    "\n",
    "To first order, the eccentricity mainly just changes the transit duration.\n",
    "This can be thought of as a change in the impled density of the star.\n",
    "Therefore, if the transit is fit using stellar density (or duration, in this case) as one of the parameters, it is possible to make an independent measurement of the stellar density, and in turn infer the eccentricity of the orbit as a post-processing step.\n",
    "The details of this eccentricity calculation method are described in [Dawson & Johnson (2012)].\n",
    "\n",
    "[Dawson & Johnson (2012)]: https://arxiv.org/abs/1203.5537\n",
    "Note: a different stellar density parameter is required for each planet (if there is more than one planet)"
   ]
  },
  {
   "cell_type": "code",
   "execution_count": null,
   "id": "64350f02",
   "metadata": {
    "pycharm": {
     "name": "#%%\n"
    },
    "tags": [
     "exe"
    ]
   },
   "outputs": [],
   "source": [
    "ecc_samples = calculate_eccentricity_weights(tic_entry, trace)\n",
    "ecc_samples.to_csv(os.path.join(tic_entry.outdir, \"eccentricity_samples.csv\"))\n",
    "plot_eccentricity_posteriors(tic_entry, ecc_samples)"
   ]
  },
  {
   "cell_type": "markdown",
   "id": "af932fad",
   "metadata": {},
   "source": [
    "## Citations\n"
   ]
  },
  {
   "cell_type": "code",
   "execution_count": null,
   "id": "7d0f86d5",
   "metadata": {
    "pycharm": {
     "name": "#%%\n"
    },
    "tags": [
     "exe"
    ]
   },
   "outputs": [],
   "source": [
    "with planet_transit_model:\n",
    "    txt, bib = xo.citations.get_citations_for_model()\n",
    "print(txt)"
   ]
  },
  {
   "cell_type": "code",
   "execution_count": null,
   "id": "64c71485",
   "metadata": {
    "pycharm": {
     "name": "#%%\n"
    },
    "tags": [
     "exe",
     "output_scroll"
    ]
   },
   "outputs": [],
   "source": [
    "print(\"\\n\".join(bib.splitlines()) + \"\\n...\")"
   ]
  },
  {
   "cell_type": "markdown",
   "id": "adacad07",
   "metadata": {},
   "source": [
    "### Packages used:\n"
   ]
  },
  {
   "cell_type": "code",
   "execution_count": null,
   "id": "8f28d127",
   "metadata": {
    "pycharm": {
     "name": "#%%\n"
    },
    "tags": [
     "exe",
     "output_scroll"
    ]
   },
   "outputs": [],
   "source": [
    "import pkg_resources\n",
    "\n",
    "dists = [str(d).replace(\" \", \"==\") for d in pkg_resources.working_set]\n",
    "for i in dists:\n",
    "    print(i)"
   ]
  }
 ],
 "metadata": {
  "jupytext": {
   "encoding": "# -*- coding: utf-8 -*-",
   "formats": "ipynb,py:light"
  },
  "kernelspec": {
   "display_name": "Python 3",
   "language": "python",
   "name": "python3"
  },
  "language_info": {
   "codemirror_mode": {
    "name": "ipython",
    "version": 3
   },
   "file_extension": ".py",
   "mimetype": "text/x-python",
   "name": "python",
   "nbconvert_exporter": "python",
   "pygments_lexer": "ipython3",
   "version": "3.7.6"
  }
 },
 "nbformat": 4,
 "nbformat_minor": 5
}
